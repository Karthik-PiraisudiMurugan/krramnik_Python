{
 "cells": [
  {
   "cell_type": "code",
   "execution_count": null,
   "id": "95f2032c-dfc7-44bc-9eec-aa09d6520742",
   "metadata": {},
   "outputs": [],
   "source": [
    "try:\n",
    "    # The part of the code which can raise an exception.\n",
    "except:\n",
    "    # The part of the code designed to handle a possible exception.\n",
    "else:\n",
    "    # The part of the code executed when no exception is raised.\n",
    "finally:\n",
    "    # The part of the code that is *always* executed.\n",
    "\n",
    "\n",
    "# The else: and finally: branches are not obligatory and can be omitted.\n",
    "\n",
    "# The else: branch (if it exists) must be specified after all the except branches.\n",
    "\n",
    "# The default except: branch must be specified after all the except Exception_n: branches.\n",
    "\n",
    "# The finally: branch (if it exists) must be specified as the last of all branches."
   ]
  },
  {
   "cell_type": "code",
   "execution_count": null,
   "id": "a9bb58a5-5044-4f75-a46a-fc67e919cf77",
   "metadata": {},
   "outputs": [],
   "source": [
    "try:\n",
    "    # Some code.\n",
    "except (Exception_1, Exception_2):\n",
    "    # Handling two different exceptions occurs here."
   ]
  },
  {
   "cell_type": "code",
   "execution_count": 1,
   "id": "499cd7e5-220d-495a-9eec-eac4e6f18d57",
   "metadata": {},
   "outputs": [
    {
     "name": "stdout",
     "output_type": "stream",
     "text": [
      "ZeroDivisionError\n",
      "Completed\n"
     ]
    }
   ],
   "source": [
    "x, y = 1, 0\n",
    "try:\n",
    "    result = x / y\n",
    "except:\n",
    "    print(\"ZeroDivisionError\")\n",
    "else:\n",
    "    print(\"Success\")\n",
    "finally:\n",
    "    print(\"Completed\")"
   ]
  },
  {
   "cell_type": "markdown",
   "id": "043ffae1-e21b-4569-b116-990ab68d0b51",
   "metadata": {},
   "source": [
    "IndexError, which is raised when the code tries to access a non-existent sequence element, for example, if lst is an empty list, the expression lst[0] will raise IndexError;\n",
    "\n",
    "KeyError, which is when the situation applies to non-sequential collections like dictionaries, for example, if dir is an empty directory, the expression dir[\"key\"] will raise KeyError.\n",
    "\n",
    "TypeError, which is triggered by operations which misuse argument types (e.g. \"1\" > 1)\n",
    "\n",
    "ValueError, Attempting to convert a string to an integer or a float when the string does not represent a valid number. eg., int(\"abc\")\n",
    "\n",
    "AttributeError, which appears when the program performs an invalid attribute reference (e.g. object.nonexistent_attribute = 0\n",
    "\n",
    "FileNotFoundError, which is raised when you try to open a non-existent file using \"r\" mode.\n",
    "\n",
    "ZeroDivisionError, which should be self-explanatory;\n",
    "\n",
    "OverflowError, which is raised when the result of any operation is too large to be stored in the computer memory (e.g. 2. ** 100000)."
   ]
  },
  {
   "cell_type": "markdown",
   "id": "135ea0fa-7724-40aa-8c8c-d4f7ed8d297e",
   "metadata": {},
   "source": [
    "Any of the built-in or user-defined exceptions can be raised manually on demand using the raise instruction. The instruction's syntax is:\n",
    "\n",
    "    raise exception"
   ]
  },
  {
   "cell_type": "markdown",
   "id": "1832deff-c4fe-4e9c-b93c-e00852d87c6b",
   "metadata": {},
   "source": [
    "In general, exceptions are objects of built-in class hierarchy which form a tree with the BaseException class as the top-most class (root class)."
   ]
  },
  {
   "cell_type": "code",
   "execution_count": null,
   "id": "fadcac1c-da0b-441f-bf37-b5681859c3d6",
   "metadata": {},
   "outputs": [],
   "source": [
    "try:\n",
    "    # The part of the code which can raise an exception.\n",
    "except ExceptionClass as exception_object:\n",
    "    # The part of the code designed to handle the possibly raised exception.\n",
    "\n",
    "\n",
    "## The exception_object variable is an instance of the ExceptionClass class, with all the consequences of this fact."
   ]
  },
  {
   "cell_type": "code",
   "execution_count": 5,
   "id": "1f8c0abe-707c-4bc2-aff5-2ffe4f3f8287",
   "metadata": {},
   "outputs": [
    {
     "name": "stdin",
     "output_type": "stream",
     "text": [
      "Enter value:  1\n"
     ]
    },
    {
     "name": "stdout",
     "output_type": "stream",
     "text": [
      "Reciprocal of the value is 1.0\n",
      "Success\n",
      "Completed\n"
     ]
    }
   ],
   "source": [
    "x, y = 1, 0\n",
    "try:\n",
    "    value = int(input(\"Enter value: \"))\n",
    "    print(\"Reciprocal of the value is\", 1 / value)\n",
    "except ValueError:\n",
    "    print(\"ValueError\")\n",
    "except ZeroDivisionError:\n",
    "    print(\"ZeroDivisionError\")\n",
    "except:\n",
    "    print(\"An unidentified exception\")\n",
    "else:\n",
    "    print(\"Success\")\n",
    "finally:   \n",
    "    print(\"Completed\")\n",
    "\n"
   ]
  },
  {
   "cell_type": "markdown",
   "id": "e9b0eac8-fb7c-4bd4-9356-df08873bf884",
   "metadata": {},
   "source": [
    "The random module delivers some mechanisms allowing you to operate with pseudorandom numbers.\n",
    "\n",
    "A random number generator takes a value called a seed, treats it as an input value, calculates a \"random\" number based on it (the method depends on the chosen algorithm) and produces a new seed value.\n",
    "\n",
    "The seed() function directly sets the generator's seed. Possible variants of its invocation are:\n",
    "seed() – sets the seed with the current time which makes the seed a bit unpredictable;\n",
    "seed(int_value) – sets the seed with the integer value int_value.\n",
    "\n",
    "random() → produces a float number x, which falls within the range 0.0 ≤ x < 1.0\n",
    "\n",
    "random.randrange(start, stop ,step) → produces an integer number x, which is taken from the range start ≤ x < stop with step step. Note: the start argument defaults to 0 and the step argument defaults to 1.\n",
    "\n",
    "\n",
    "random.randint(start, stop) → equivalent of random.randrange(start, stop+1);\n",
    "\n",
    "choice(sequence) → chooses a \"random\" element from the input sequence (e.g. a list or tuple) and returns it;"
   ]
  },
  {
   "cell_type": "code",
   "execution_count": 11,
   "id": "131a8a22-9535-41d1-b75a-e5c81f20f00a",
   "metadata": {},
   "outputs": [
    {
     "name": "stdout",
     "output_type": "stream",
     "text": [
      "0.8444218515250481\n",
      "0.7579544029403025\n",
      "0.053036135501478565\n"
     ]
    }
   ],
   "source": [
    "import random\n",
    "\n",
    "random.seed(0)\n",
    "print(random.random()) # values will repeat\n",
    "print(random.random()) # values will repeat\n",
    "\n",
    "random.seed()\n",
    "print(random.random()) # values may not repeat"
   ]
  },
  {
   "cell_type": "code",
   "execution_count": 31,
   "id": "ecb20f1a-ab2d-4663-a9b4-3ea951df9604",
   "metadata": {},
   "outputs": [
    {
     "name": "stdout",
     "output_type": "stream",
     "text": [
      "39\n",
      "10\n",
      "25\n",
      "2\n"
     ]
    }
   ],
   "source": [
    "import random\n",
    "\n",
    "print(random.randrange(100))\n",
    "print(random.randrange(0,100,5))\n",
    "print(random.randrange(0,100,25))\n",
    "print(random.randrange(1,3)) # you can't get 3. the stop value is excluded in the range"
   ]
  },
  {
   "cell_type": "code",
   "execution_count": 34,
   "id": "6a50b079-6243-411e-8173-4921f7f80e11",
   "metadata": {},
   "outputs": [
    {
     "name": "stdout",
     "output_type": "stream",
     "text": [
      "144\n",
      "6\n",
      "18\n",
      "3\n"
     ]
    }
   ],
   "source": [
    "import random\n",
    "\n",
    "print(random.randint(100,200))\n",
    "print(random.randint(0,100))\n",
    "print(random.randint(10,20))\n",
    "print(random.randint(1,3)) # you can get 3. the stop value is included in the range"
   ]
  },
  {
   "cell_type": "markdown",
   "id": "568df822-9e2c-438c-b505-1cebe66f905f",
   "metadata": {},
   "source": [
    "random.randint(a, b):\n",
    "\n",
    "This function returns a random integer N such that a <= N <= b. Inclusive of both end points.\n",
    "It's straightforward for generating a random integer within a range, including both the start and the end values.\n",
    "\n",
    "\n",
    "random.randrange(start, stop[, step]):\n",
    "\n",
    "This function returns a randomly selected element from range(start, stop, step).\n",
    "It's more flexible than randint because it allows you to specify a step. This means you can generate random numbers within a range, but skip numbers based on the step value. For instance, you can generate only even numbers within a range by setting the step to 2.\n",
    "The stop value is not inclusive, similar to how the range() function works in Python. If you want to include the end point, you have to adjust the stop parameter accordingly."
   ]
  },
  {
   "cell_type": "markdown",
   "id": "f3786e62-8a2a-4ff5-baad-0bbe47c3baa1",
   "metadata": {},
   "source": [
    "The very first line of a Python source file can start with #!, in which case it's called the shabang, shebang, hashbang, poundbang, or even the hashpling line. From Python's point of view, it's just a comment. For Unix and Unix-like OSs (including MacOS) such a line instructs the OS on how to execute the contents of the file (in other words, what program needs to be launched to interpret the text). "
   ]
  },
  {
   "cell_type": "markdown",
   "id": "2ec5e418-4fbc-433c-97e5-2cb9cb0c0140",
   "metadata": {},
   "source": [
    "There is a special built-in variable named __name__ whose value:\n",
    "is set to \"__main__\" when the module is run as a standalone code;\n",
    "is set to the source file's name (excluding .py) when the file is imported as a module."
   ]
  },
  {
   "cell_type": "markdown",
   "id": "a16c5eb5-6fa4-453e-92d3-34d6896c552a",
   "metadata": {},
   "source": [
    "Characters (alphabetical signs, digits, punctuation marks, emojis, etc.) are stored in the computer memory as numbers. The way in which certain numbers are assigned to corresponding characters is called an encoding standard. A number assigned to a certain character according to a given encoding standard is a code point.\n",
    "\n",
    "A commonly adopted and globally used encoding standard is American Standard Code for Information Interchange (ASCII) whose modern version uses eight bits for its code points and is able to define 256 different characters.\n",
    "\n",
    "In ASCII, any lower-case letter code point is greater by 32 (a space code point) than its upper-case counterpart.\n",
    "\n",
    "Unicode covers more than 143,000 characters and is accepted by nearly all currently used hardware and software products.Depending on the number of bits used to carry code points, a few transformations have been defined, such as UTF-32, UTF-16, and UTF-8 (note that the latter is the dominant encoding on the WWW).\n",
    "\n",
    "Python 3 accepts UTF-8 encoded source files. All named Python entities like variables, functions, classes etc. can contain letters derived from non-Latin alphabets, although it has to be mentioned that such practice may break PEP-8 rules.\n",
    "\n",
    "In Python, Single-line literals are delimited either by a pair of apostrophes ('string') or by a pair of quotes (\"string\"). \n",
    "\n",
    "Multi-line literals are delimited either by a pair of triple apostrophes ('''string''') or by a pair of triple quotes (\"\"\"string\"\"\").\n",
    "\n",
    "\n",
    "A couple of functions are used to transform code points into characters and vice versa:\n",
    "    ord(c) this returns a character's code point as an integer value;\n",
    "    chr(i) this returns a single character string obtained from a given code point."
   ]
  },
  {
   "cell_type": "code",
   "execution_count": 100,
   "id": "6d868c04-5e0e-412c-9577-87ae4c4b931b",
   "metadata": {},
   "outputs": [
    {
     "data": {
      "text/plain": [
       "'\\nThe backslash is also used to embed control characters (characters whose ASCII code points are less than 32) inside strings. \\nSome of the characters are:\\n    \"\\n\" (new line – NL) – produces a line break on terminals and inside text files;\\n    \"\\r\" (carriage return – CR) – moves the cursor back to the beginning of the line;\\n    \"\\t\" (horizontal tabulation – HT) – moves the cursor to the next tab stop;\\n    \"\\x0c\" (form feed – FF) – loads a new page of papers on printers;\\n    \"\\x07\" (bell – BEL) – makes a beep on terminals.\\n\\n'"
      ]
     },
     "execution_count": 100,
     "metadata": {},
     "output_type": "execute_result"
    }
   ],
   "source": [
    "\"\"\"\n",
    "The backslash is also used to embed control characters (characters whose ASCII code points are less than 32) inside strings. \n",
    "Some of the characters are:\n",
    "    \"\\n\" (new line – NL) – produces a line break on terminals and inside text files;\n",
    "    \"\\r\" (carriage return – CR) – moves the cursor back to the beginning of the line;\n",
    "    \"\\t\" (horizontal tabulation – HT) – moves the cursor to the next tab stop;\n",
    "    \"\\f\" (form feed – FF) – loads a new page of papers on printers;\n",
    "    \"\\a\" (bell – BEL) – makes a beep on terminals.\n",
    "\n",
    "\"\"\""
   ]
  },
  {
   "cell_type": "code",
   "execution_count": 104,
   "id": "66c2c5c2-5aef-47cf-9f84-1c8a207e7b3f",
   "metadata": {},
   "outputs": [
    {
     "name": "stdout",
     "output_type": "stream",
     "text": [
      "King's\n",
      "6\n",
      "\\\n",
      "1\n",
      "1\n"
     ]
    }
   ],
   "source": [
    "var =\"King\\'s\"\n",
    "print(var)\n",
    "print(len(var)) # note that the escape character is not counted\n",
    "\n",
    "var2 = \"\\\\\"\n",
    "print(var2)\n",
    "print(len(var2))\n",
    "\n",
    "var3 ='\\n'\n",
    "print (len(var3))"
   ]
  },
  {
   "cell_type": "markdown",
   "id": "4b98a8d7-5202-44bc-96c8-298e70ad4fea",
   "metadata": {},
   "source": [
    "Python strings are sequences – this means that they can be subject to:\n",
    "    indexing;\n",
    "    slicing;\n",
    "    iterating through.\n",
    "\n",
    "Any string can be sliced. The slicing produces a new string, leaving the original string untouched.\n",
    "\"string\"[2:4] evaluates to \"ri\";\n",
    "\"string\"[::2] evaluates to \"srn\";\n",
    "\"string\"[::-1] evaluates to \"gnirts\".\n",
    "\n",
    "\n",
    "Note: the slice which breaks string boundaries does not raise an exception – the non-existent characters are replaced by empty strings instead:\n",
    "\"string\"[2:100] evaluates to \"ring\";\n",
    "\"string\"[-100:-200] evaluates to an empty string.\n",
    "\n",
    "Python strings are immutable. \n",
    "\n",
    "The in and not in operators can be applied to strings"
   ]
  },
  {
   "cell_type": "code",
   "execution_count": 43,
   "id": "de9f1d83-0519-461f-9c58-de1b1b1bfc8a",
   "metadata": {},
   "outputs": [
    {
     "name": "stdout",
     "output_type": "stream",
     "text": [
      "s_t_r_i_n_g_"
     ]
    }
   ],
   "source": [
    "\n",
    "sample = \"string\"\n",
    "for char in sample:\n",
    "    print(char, end=\"_\")"
   ]
  },
  {
   "cell_type": "code",
   "execution_count": null,
   "id": "422bb016-8f68-4208-9f02-042aeec70e25",
   "metadata": {},
   "outputs": [],
   "source": [
    "sample = \"string\"\n",
    "sample[0] = \"S\" # TypeError\n",
    "\n",
    "sample = \"string\"\n",
    "del sample[0] # TypeError\n",
    "\n",
    "sample = \"string\"\n",
    "sample.append(\"s\") # AttributeError"
   ]
  },
  {
   "cell_type": "code",
   "execution_count": null,
   "id": "e83bea18-2e0c-42cb-98c6-32e9144205e9",
   "metadata": {},
   "outputs": [],
   "source": [
    "\"s\" in \"string\"        # True\n",
    "\"S\" not in \"string\"    # True\n",
    "\"ring\" not in \"string\" # False"
   ]
  },
  {
   "cell_type": "code",
   "execution_count": 107,
   "id": "55740df2-3083-4a77-9777-94a1a74a120b",
   "metadata": {},
   "outputs": [
    {
     "name": "stdout",
     "output_type": "stream",
     "text": [
      "True True\n"
     ]
    }
   ],
   "source": [
    "# It can be said that an empty string is contained inside every string, even an empty one. \n",
    "\n",
    "var1 = \"\" in \"string\"\n",
    "\n",
    "var2 = \"\" in \"\"\n",
    "\n",
    "print(var1, var2)"
   ]
  },
  {
   "cell_type": "code",
   "execution_count": 50,
   "id": "b1c9ecdc-6046-4afe-8812-0a104a9920c5",
   "metadata": {},
   "outputs": [
    {
     "name": "stdout",
     "output_type": "stream",
     "text": [
      "I♡U\n",
      "I♡U2\n",
      "I♡UI♡U\n"
     ]
    }
   ],
   "source": [
    "my_string = \"I♡U\"\n",
    "print(my_string) \n",
    "\n",
    "my_string += \"2\" # + for string concatenation\n",
    "print(my_string) \n",
    "\n",
    "my_string = \"I♡U\"\n",
    "my_string *= 2  # * for string replication\n",
    "print(my_string)"
   ]
  },
  {
   "cell_type": "markdown",
   "id": "a69c6a29-10e7-46ba-9a2e-39d1fa76412d",
   "metadata": {},
   "source": [
    "Some of the methods which can be invoked from within strings are:\n",
    "\n",
    "string.index(str) returns the index of the first occurrence of the str argument inside the string object, or raises a ValueError exception if the argument cannot be found;\n",
    "Example: \"012ABCxyz\".index(\"AB\") evaluates to 3.\n",
    "\n",
    "string.count(str) counts all occurrences of the strargument inside the string object;\n",
    "Example: \"alpha beta gamma\".count(\"a\") evaluates to 5.\n",
    "\n",
    "string.capitalize() returns a copy of the string object with its first character capitalized and the rest lower-case;\n",
    "Example: \"tHe\".capitalize() evaluates to \"The\".\n",
    "\n",
    "string.center(size) returns a copy of the string object centered inside a field of size width; Example: \"Heading\".center(15) evaluates to \"    Heading    \".\n",
    "\n",
    "string.center(size, char) performs the same task as the previous variant, but fills the empty space with char instead of space;\n",
    "Example: \"Heading\".center(15,\"-\") evaluates to \"----Heading----\".\n",
    "\n",
    "string.endswith(str) checks if a given string object ends with the specified str substring, and returns True or False, depending on the check result;\n",
    "Example: \"the end of the world\".endswith(\"collapse\") evaluates to False.\n",
    "\n",
    "string.startswith(str) checks if a given string starts with the specified str substring;\n",
    "Example: \"the end of the world\".startswith(\"the\") evaluates to True.\n",
    "\n",
    "The result of string.find(str) is the same as that returned from the .index() method, but evaluates to -1 when the substring is not found instead of raising a ValueError exception;\n",
    "Example: \"Where are the snows of yesteryear?\".find(\"ar\") evaluates to 6.\n",
    "\n",
    "string.rfind(str) does the same search as .find(), but starts its activity from the end of the string;\n",
    "Example: \"Where are the snows of yesteryear?\".rfind(\"ar\") evaluates to 32.\n",
    "\n",
    "string.isalnum() checks if a string contains only digits or alphabetical characters (letters);\n",
    "Example: \"R2D2\".isalnum() evaluates to True.\n",
    "\n",
    "string.isalpha() works like .isalnum(), but is interested in letters only;\n",
    "Example: \"R2D2\".isalpha() evaluates to False.\n",
    "\n",
    "string.isdigit() looks for decimal digits only;\n",
    "Example: \"42\".isdigit() evaluates to True.\n",
    "\n",
    "string.islower() is like .isalpha(), but accepts lower-case letters only;\n",
    "Example: \"islower\".islower() evaluates to True.\n",
    "\n",
    "string.isupper() is like .islower(), but its objects of interests are upper-case letters;\n",
    "Example: \"Upper?\".isupper() evaluates to False.\n",
    "\n",
    "string.isspace() identifies whitespaces only;\n",
    "Example: \" \\t\\n\\r\".isspace() evaluates to True.\n",
    "\n",
    "string.lower() returns a copy of the string with all the upper-case characters converted to lower-case;\n",
    "Example: \"The End\".lower() evaluates to \"the end\".\n",
    "\n",
    "string.upper() returns a copy of the string with all the lower-case characters converted to upper-case;\n",
    "Example: \"The End\".upper() evaluates to \"THE END\".\n",
    "\n",
    "string.swapcase() makes a new string by swapping the case of all letters within the source string;\n",
    "Example: \"tHE eND\".swapcase() evaluates to \"The End\".\n",
    "\n",
    "string.title() returns a title-cased version of the string;\n",
    "Example: \"the end\".title() evaluates to \"The End\".\n",
    "\n",
    "string.lstrip() returns a copy of the string with leading spaces removed;\n",
    "Example: \"  The End  \".lstrip() evaluates to \"The End  \".\n",
    "\n",
    "string.rstrip() returns a copy of the string with trailing spaces removed;\n",
    "Example: \"  The End  \".rstrip() evaluates to \"  The End\".\n",
    "\n",
    "string.strip() combines the effects of both .rstrip() and .lstrip();\n",
    "Example: \"  The End  \".strip() evaluates to \"The End\".\n",
    "\n",
    "string.replace(str1, str2) returns a copy of the original string in which all occurrences of the str1 argument have been replaced by the str2 argument;\n",
    "Example: \"Big Bang\".replace(\"B\", \"D\") evaluates to \"Dig Dang\"."
   ]
  },
  {
   "cell_type": "markdown",
   "id": "5c293a50-caa1-490e-bf0a-688e8b8e1577",
   "metadata": {},
   "source": [
    "string.split(sep) returns a list of the words found in the string, using sep as the delimiter string; if the sep argument is ommitted, a space is used as the default delimiter;\n",
    "\n",
    "Example: \"Little,John\".split(\",\") evaluates to [\"Little\", \"John\"].\n",
    "Example: \"Little,John\".split() evaluates to [\"Little,John\"].\n",
    "\n",
    "string.join(list) returns a string which is the concatenation of the strings contained in the list. If there are no strings in the list, a TypeError exception is raised. The separator between the joined elements of the result is the string itself.\n",
    "Example: \",\".join([\"Little\", \"John\"]) evaluates to \"Little,John\""
   ]
  },
  {
   "cell_type": "markdown",
   "id": "5580bb7c-c757-441a-8c95-0dbcdfa97b80",
   "metadata": {},
   "source": [
    "Use sorted() function , if you need a sorted version of an iterable (like a string, list, tuple, etc.) and you want to keep the original unchanged.\n",
    "Use .sort() method ,if you want to sort a list in place and do not need the original ordering of the list items."
   ]
  },
  {
   "cell_type": "markdown",
   "id": "6a29b677-2585-49d8-ae51-d27f7c05f29b",
   "metadata": {},
   "source": [
    "Object-Oriented Programming (OOP) is a programming paradigm (a distinct set of coding techniques) based on the concept of objects. An object is an entity which combines data and code.\n",
    "\n",
    "The data is stored in the form of fields (also known as attributes or properties), and code is represented in the form of functions (also known as methods).\n",
    "\n",
    "The bundling of data and the methods which operate on that data, or restricting direct access to the data, is called encapsulation."
   ]
  },
  {
   "cell_type": "code",
   "execution_count": null,
   "id": "15b4bd8c-0c76-4096-b9e4-95329f305cd6",
   "metadata": {},
   "outputs": [],
   "source": [
    "# Example\n",
    "\n",
    "class TheClass:\n",
    "    class_variable = True  # This is a class variable (property).\n",
    "\n",
    "    def __init__(self):\n",
    "        self.instance_variable = False  # This is an instance variable.\n",
    "\n",
    "    def do_this(self):  # This is a class function (method).\n",
    "        return TheClass.class_variable\n",
    "\n"
   ]
  },
  {
   "cell_type": "markdown",
   "id": "c8556961-0cb4-463d-9855-2314cdde3e20",
   "metadata": {},
   "source": [
    "An object is an incarnation of ideas expressed in a class, while a class is a kind of recipe which can be used to create an object."
   ]
  },
  {
   "cell_type": "code",
   "execution_count": null,
   "id": "54e3ec8c-dffa-47b3-9225-ded679b10256",
   "metadata": {},
   "outputs": [],
   "source": [
    "# Example\n",
    "\n",
    "class TheClass:\n",
    "    pass\n",
    "\n",
    "the_object = TheClass()  # the_object is an object/instance of TheClass class.\n",
    "\n"
   ]
  },
  {
   "cell_type": "markdown",
   "id": "338a55e3-c185-4da0-ab29-5ebb606525b4",
   "metadata": {},
   "source": [
    "Classes form a hierarchy in which the more specialized classes (known as subclasses) are placed below the more general or abstrac classes (known as superclasses). "
   ]
  },
  {
   "cell_type": "code",
   "execution_count": 51,
   "id": "1e7c6f46-4a3f-4c49-bb70-ab492b71b0b8",
   "metadata": {},
   "outputs": [
    {
     "name": "stdout",
     "output_type": "stream",
     "text": [
      "1 2\n"
     ]
    }
   ],
   "source": [
    "# Example\n",
    "\n",
    "class A:\n",
    "    class_variable = 1\n",
    "\n",
    "    def do(self):\n",
    "        self.instance_variable = 2;\n",
    "\n",
    "class B(A):\n",
    "    pass\n",
    "\n",
    "\n",
    "o = B()\n",
    "o.do()\n",
    "print(o.class_variable, o.instance_variable)\n",
    "\n"
   ]
  },
  {
   "cell_type": "markdown",
   "id": "1a0e8b9b-8879-4772-9dd2-3b1f3d0bc488",
   "metadata": {},
   "source": [
    "Inheritance is a mechanism of basing a class upon another class, retaining a similar implementation and a common set of traits. The process can be also defined as deriving new classes (subclasses) from existing ones (superclasses or base classes).\n"
   ]
  },
  {
   "cell_type": "code",
   "execution_count": null,
   "id": "ceb5a0af-ff72-4108-a61f-dee3c40aa3fb",
   "metadata": {},
   "outputs": [],
   "source": [
    "# Example\n",
    "\n",
    "class TheSuperclass: # This is TheSubclass's superclass.\n",
    "    pass\n",
    "\n",
    "\n",
    "class TheSubclass(TheSuperclass): # This is TheSuperclass's subclass.\n",
    "    pass\n",
    "\n"
   ]
  },
  {
   "cell_type": "markdown",
   "id": "85bf0506-02da-4e6b-8b90-87a38bc499d3",
   "metadata": {},
   "source": [
    "In the inheritance hierarchy, a class's component that is defined later (in the inheritance sense) overrides the same component that has been defined earlier\n",
    "\n",
    "Single inheritance happens when a certain class has only one direct superclass.\n",
    "\n",
    "Multiple inheritance takes place when a class has more than one direct superclass.\n",
    "\n",
    "The diamond problem term describes issues that may derive from multiple inheritance. The problem appears when a class is a subclass of more than one superclass derived from one common super-super-class."
   ]
  },
  {
   "cell_type": "markdown",
   "id": "20e3b461-7165-4842-84c9-2ed58b8121e1",
   "metadata": {},
   "source": [
    "Polymorphism is a mechanism which enables the programmer to modify the behavior of any of the object's superclasses without modifying these classes themselves.\n",
    "\n",
    "Polymorphism is a fundamental concept in object-oriented programming (OOP) that allows objects of different classes to be treated as objects of a common superclass. It is derived from the Greek words \"poly\" (meaning many) and \"morph\" (meaning form), and thus polymorphism means \"many forms\". In the context of programming, it refers to the ability of different objects to respond, each in their own way, to the same message (or method call)."
   ]
  },
  {
   "cell_type": "code",
   "execution_count": null,
   "id": "72f9624b-68e2-428b-8a11-8e0514ba9e94",
   "metadata": {},
   "outputs": [],
   "source": [
    "Composition is the process of composing an object using other different objects.\n",
    "\n",
    "Introspection is the ability of a program to examine the type or properties of an object at runtime.\n",
    "\n",
    "Reflection is the ability of a program to manipulate the values, properties, and/or functions of an object at runtime."
   ]
  },
  {
   "cell_type": "markdown",
   "id": "7a985a5e-6d1c-4d53-a83e-31f155388cb3",
   "metadata": {},
   "source": [
    "Every existing object may be equipped with three groups of attributes:\n",
    "a name that uniquely identifies it within its home namespace;\n",
    "a set (maybe empty) of individual properties which make it original and unique;\n",
    "a set of methods to perform specific activities, able to change the object itself, or some of the other objects.\n",
    "\n",
    "\n",
    "Any class or object component (either a method or property) must be accessed using dotted notation (i.e. the_object.component)."
   ]
  },
  {
   "cell_type": "markdown",
   "id": "15797fdc-eaf2-43a8-8fa6-ac49cc6577a7",
   "metadata": {},
   "source": [
    "Python objects, when created, are gifted with a small set of predefined properties and methods. One of them is a variable named __dict__ (it's a dictionary). The variable contains the names and values of all the properties (variables) the object is currently carrying.\n",
    "\n",
    "Each class (not object!) is equipped with a string variable named __name__, which contains the name of the class itself, and with a tuple named __bases__, which contains classes (not class names!) which are direct superclasses of the class.\n",
    "\n",
    "\n",
    "All classes and objects have a string variable named __module__, which stores the name of the module containing the definition of the class."
   ]
  },
  {
   "cell_type": "markdown",
   "id": "0a65c70f-82ff-4ebb-897e-ad1fec1b7858",
   "metadata": {},
   "source": [
    "An instance variable is a kind of property which is closely connected to the object (class instance), not to the class itself. Each of the objects (even when the objects are derived from the same class) can have a different set of instance variables. Modifying the instance variable of any object has no impact on all the remaining objects.\n",
    "\n",
    "A class variable is a property which exists in just one copy and is stored outside any object. Class variables aren't shown in an object's __dict__ dictionary – they can be found inside the class's __dict__ dictionary. Remember that a class variable always presents the same value in all class instances (objects).\n",
    "\n",
    "A variable (either a class or instance) becomes private (inaccessible directly from outside the class/object) if its name starts with two underscores (___). Such a variable can be unhidden by the mechanism called name mangling. For example, a property named __property defined inside an object named the_object, being an instance of the TheClass class, can be accessed directly as:\n",
    "\n",
    "the_object._TheClass__property\n",
    "\n",
    "Mangling won't work if you add an instance variable outside the class code.\n",
    "\n",
    "Referencing to a non-existent class/object component raises the AttributeError exception. To check a component's existence, the hasattr() function can be used, which expects two arguments to be passed to it:\n",
    "the class or the object being checked;\n",
    "the string with the name of the property whose existence has to be reported.\n",
    "\n",
    "The function returns either True or False.\n",
    "\n",
    "A method is a function embedded inside a class. Every Python method is obliged to have at least one parameter – a method may be invoked without an argument, but must not be declared without parameters). The first (or even only) parameter is usually named self, and the name suggests the parameter's purpose – it identifies the object for which the method is invoked.\n",
    "\n",
    "If you want the method to accept parameters other than self, you should:\n",
    "place them after self in the method's definition;\n",
    "deliver them during invocation without specifying self.\n",
    "\n",
    "The self parameter is used to obtain access to the object's instance and class variables, as well as to invoke other object/class methods from inside the class."
   ]
  },
  {
   "cell_type": "markdown",
   "id": "e1786cb2-bc37-41fe-b540-b9d6cbbd2189",
   "metadata": {},
   "source": [
    "A method called __init__() is a constructor. If a class has a constructor, it is invoked automatically and implicitly when the object of the class is instantiated.\n",
    "\n",
    "When a class has a superclass and:\n",
    "a. it doesn't have its own constructor, then a superclass constructor is invoked implicitly during class creation;\n",
    "b. has its own constructor, then a superclass constructor has to be invoked explicitly.\n",
    "\n",
    "The constructor:\n",
    "is obliged to have the self parameter (it's set automatically, as usual)\n",
    "may have more parameters than just self; if this happens, the way in which the class name is used to create the object must reflect the __init__() definition;\n",
    "can be used to set up the object, in other words, to properly initialize its internal state, create instance variables, instantiate any other objects if their existence is needed, etc.\n",
    "cannot return a value;\n",
    "cannot be invoked directly either from the object or from inside the class – you can only invoke a constructor from any of the object's superclass constructors.\n"
   ]
  },
  {
   "cell_type": "markdown",
   "id": "b8e4c5ec-fb05-4aac-9c81-14358e1244ac",
   "metadata": {},
   "source": [
    "When Python needs any class/object to be presented as a string, it tries to invoke a method named __str__() from the object and to use the string it returns. The method can be overridden to construct adequate and useful behavior."
   ]
  },
  {
   "cell_type": "code",
   "execution_count": 53,
   "id": "d2e5c868-5534-43eb-abdb-d05e6efb78d3",
   "metadata": {},
   "outputs": [
    {
     "name": "stdout",
     "output_type": "stream",
     "text": [
      "<__main__.A object at 0x106003cb0>\n",
      "<__main__.A object at 0x106003cb0> object!\n"
     ]
    }
   ],
   "source": [
    "# Example\n",
    "\n",
    "class A:\n",
    "    pass\n",
    "\n",
    "\n",
    "class B:\n",
    "    def __str__(self):\n",
    "        return \"object!\"\n",
    "\n",
    "\n",
    "a = A()\n",
    "b = B()\n",
    "print(a)\n",
    "print(a, b)\n",
    "\n"
   ]
  },
  {
   "cell_type": "code",
   "execution_count": null,
   "id": "2d4b19d2-f82a-4872-b2fc-6505336719d0",
   "metadata": {},
   "outputs": [],
   "source": [
    "'''To define a class named SubClass as a subclass of a superclass or superclasses, the following syntax has to be used:'''\n",
    "# Example 1\n",
    "\n",
    "class Subclass(SuperClass):\n",
    "    pass\n",
    "\n",
    "\n",
    "or\n",
    "\n",
    "# Example 2\n",
    "\n",
    "class Subclass2(SuperClass_1, Superclass_2):\n",
    "    pass"
   ]
  },
  {
   "cell_type": "markdown",
   "id": "2a6ead3a-7f7a-4fc8-9a9b-0632460ddd59",
   "metadata": {},
   "source": [
    "To check if a particular class is a subclass of any other class, a function named issubclass(ClassOne, ClassTwo) is used. The function returns True if the ClassOne class is a subclass of the ClassTwo class, and False otherwise. Note: each class is considered to be a subclass of itself.\n"
   ]
  },
  {
   "cell_type": "code",
   "execution_count": 54,
   "id": "6c6b2d8a-07f8-471f-9def-62249dd422bd",
   "metadata": {},
   "outputs": [
    {
     "name": "stdout",
     "output_type": "stream",
     "text": [
      "False True True\n"
     ]
    }
   ],
   "source": [
    "# Example: issubclass\n",
    "\n",
    "class A:\n",
    "    pass\n",
    "class B(A):\n",
    "    pass\n",
    "\n",
    "\n",
    "print(issubclass(A, B), issubclass(B, A), issubclass(B, B))\n",
    "\n"
   ]
  },
  {
   "cell_type": "markdown",
   "id": "c3590e4b-054d-4086-819d-99c93bfd44ad",
   "metadata": {},
   "source": [
    "To detect if an object is an instance of a certain class, a function named isinstance(the_object, TheClass) is used. The function returns True if the_object object is an instance of the TheClasclass, or False otherwise."
   ]
  },
  {
   "cell_type": "code",
   "execution_count": 55,
   "id": "5b30a06b-2d19-4b88-8bc0-4debe951551f",
   "metadata": {},
   "outputs": [
    {
     "name": "stdout",
     "output_type": "stream",
     "text": [
      "True False\n"
     ]
    }
   ],
   "source": [
    "# Example isinstance\n",
    "\n",
    "class A:\n",
    "    pass\n",
    "\n",
    "\n",
    "class B:\n",
    "    pass\n",
    "\n",
    "\n",
    "o = A()\n",
    "print(isinstance(o, A), isinstance(o, B))\n",
    "\n"
   ]
  },
  {
   "cell_type": "markdown",
   "id": "1c5ee06b-1acd-4681-b844-2d7b8cfddf6c",
   "metadata": {},
   "source": [
    "The is operator checks whether two variables refer to the same object. If they do, the expression evaluates to True, and to False otherwise."
   ]
  },
  {
   "cell_type": "code",
   "execution_count": 56,
   "id": "bcc74bc3-18fd-4f9c-bfc2-f9424a2ec25c",
   "metadata": {},
   "outputs": [
    {
     "name": "stdout",
     "output_type": "stream",
     "text": [
      "True False\n"
     ]
    }
   ],
   "source": [
    "# Example is\n",
    "\n",
    "class A:\n",
    "    pass\n",
    "\n",
    "\n",
    "o1 = A()\n",
    "o2 = o1\n",
    "o3 = A()\n",
    "print(o1 is o2, o1 is o3)\n",
    "\n"
   ]
  },
  {
   "cell_type": "markdown",
   "id": "2cda2f19-7b71-41b8-b55f-56ce3c58e376",
   "metadata": {},
   "source": [
    "The super() function, when used inside any class methods, gives access to the superclass without needing to know its name. It can be said that the super() function creates a context in which you don't have to pass the self argument to the method being invoked – this is why it's possible to activate the superclass constructor using only one argument.\n",
    "\n",
    "You can use this mechanism not only to invoke the superclass constructor, but also to get access to any of the resources available inside the superclass."
   ]
  },
  {
   "cell_type": "code",
   "execution_count": 57,
   "id": "5005c995-f93d-4178-86d9-4d2640d0b5a3",
   "metadata": {},
   "outputs": [
    {
     "name": "stdout",
     "output_type": "stream",
     "text": [
      "A's __init__()\n",
      "A's __init__()\n"
     ]
    }
   ],
   "source": [
    "# super()\n",
    "\n",
    "class A:\n",
    "    def __init__(self):\n",
    "        print(\"A's __init__()\")\n",
    "\n",
    "\n",
    "class B(A):\n",
    "    def __init__(self):\n",
    "        super().__init__()\n",
    "        A.__init__(self)\n",
    "        pass\n",
    "\n",
    "o = B()\n",
    "\n"
   ]
  },
  {
   "cell_type": "markdown",
   "id": "630c2bd1-3aa4-40de-97c6-26b76d529a60",
   "metadata": {},
   "source": [
    "The Method Resolution Order (MRO for short) is a strategy in which a particular programming language scans through the upper parts of a class's hierarchy in order to find the method it currently needs. Python does this in the following order:\n",
    "find it inside the object itself;\n",
    "find it in all classes involved in the object's inheritance line from bottom to top.\n",
    "\n",
    "(If there is more than one class inside a certain level of the inheritance, the classes at this level are scanned from left to right in the order in which they have been put in the inheritance declaration.)"
   ]
  },
  {
   "cell_type": "code",
   "execution_count": 58,
   "id": "6393da50-fdb0-401b-bc81-3ff1f8947761",
   "metadata": {},
   "outputs": [
    {
     "name": "stdout",
     "output_type": "stream",
     "text": [
      "BR\n"
     ]
    }
   ],
   "source": [
    "# MRO Example\n",
    "\n",
    "class A:\n",
    "    def do(self):\n",
    "        print(\"A\")\n",
    "\n",
    "\n",
    "class BL(A):\n",
    "    def do(self):\n",
    "        print(\"BL\")\n",
    "\n",
    "\n",
    "class BR(A):\n",
    "    def do(self):\n",
    "        print(\"BR\")\n",
    "\n",
    "\n",
    "class C(BR, BL):\n",
    "    pass\n",
    "\n",
    "\n",
    "o = C()\n",
    "o.do()\n",
    "\n"
   ]
  },
  {
   "cell_type": "code",
   "execution_count": 59,
   "id": "3ccb6b7d-6ca3-491b-8135-42a7a8bd89c7",
   "metadata": {},
   "outputs": [
    {
     "ename": "TypeError",
     "evalue": "Cannot create a consistent method resolution\norder (MRO) for bases A, B",
     "output_type": "error",
     "traceback": [
      "\u001b[0;31m---------------------------------------------------------------------------\u001b[0m",
      "\u001b[0;31mTypeError\u001b[0m                                 Traceback (most recent call last)",
      "Cell \u001b[0;32mIn[59], line 10\u001b[0m\n\u001b[1;32m      7\u001b[0m \u001b[38;5;28;01mclass\u001b[39;00m \u001b[38;5;21;01mB\u001b[39;00m(A):\n\u001b[1;32m      8\u001b[0m     \u001b[38;5;28;01mpass\u001b[39;00m\n\u001b[0;32m---> 10\u001b[0m \u001b[38;5;28;43;01mclass\u001b[39;49;00m\u001b[43m \u001b[49m\u001b[38;5;21;43;01mC\u001b[39;49;00m\u001b[43m(\u001b[49m\u001b[43mA\u001b[49m\u001b[43m,\u001b[49m\u001b[43m \u001b[49m\u001b[43mB\u001b[49m\u001b[43m)\u001b[49m\u001b[43m:\u001b[49m\n\u001b[1;32m     11\u001b[0m \u001b[43m    \u001b[49m\u001b[38;5;28;43;01mpass\u001b[39;49;00m\n\u001b[1;32m     13\u001b[0m o \u001b[38;5;241m=\u001b[39m C()\n",
      "\u001b[0;31mTypeError\u001b[0m: Cannot create a consistent method resolution\norder (MRO) for bases A, B"
     ]
    }
   ],
   "source": [
    "# Due to an illegal C class inheritance declaration, the code below causes TypeError to be raised:\n",
    "\n",
    "\n",
    "class A:\n",
    "    pass\n",
    "\n",
    "class B(A):\n",
    "    pass\n",
    "\n",
    "class C(A, B):\n",
    "    pass\n",
    "\n",
    "o = C()\n",
    "\n",
    "## Replacing class C(A, B) with class C(B, A) removes the error."
   ]
  },
  {
   "cell_type": "markdown",
   "id": "5e866148-0244-4f62-a93c-4391c5719263",
   "metadata": {},
   "source": [
    "A Python generator is a class containing a piece of specialized code able to produce a series of values, and to control the iteration process. The generator returns a series of values, and in general, is (implicitly) invoked more than once.\n",
    "\n",
    "An iterator protocol is a way in which an object should behave in order to conform to the rules imposed by the context of the for and in statements. An object conforming to the iterator protocol is called an iterator.\n",
    "\n",
    "An iterator must provide two methods:\n",
    "\n",
    "__iter__(), which should return the object itself and which is invoked once (it's needed for Python to successfully start the iteration)\n",
    "\n",
    "__next__(), which is intended to return the next value (first, second, and so on) of the desired series – it will be invoked by the for/in statements in order to pass through the next iteration; if there are no more values to provide, the method should raise the StopIteration exception."
   ]
  },
  {
   "cell_type": "code",
   "execution_count": 60,
   "id": "8ba0450b-237a-4537-89c4-b5fc0be9c3d5",
   "metadata": {},
   "outputs": [
    {
     "name": "stdout",
     "output_type": "stream",
     "text": [
      "0\n",
      "1\n",
      "2\n"
     ]
    },
    {
     "data": {
      "text/plain": [
       "\"Here's a simple example of a class in Python that implements the iterator protocol,making it usable in a for loop.\\n   An iterator in Python must implement two methods:\\n           __iter__() \\n           __next__()\\n   The __iter__() method returns the iterator object itself and is automatically called at the start of loops. \\n   The __next__() method returns the next value and is automatically called at each loop increment. \\n   It should raise a StopIteration exception when there are no more values to return.\""
      ]
     },
     "execution_count": 60,
     "metadata": {},
     "output_type": "execute_result"
    }
   ],
   "source": [
    "class Counter:\n",
    "    def __init__(self, high):\n",
    "        self.current = 0\n",
    "        self.high = high\n",
    "\n",
    "    def __iter__(self):\n",
    "        return self\n",
    "\n",
    "    def __next__(self):\n",
    "        if self.current < self.high:\n",
    "            num = self.current\n",
    "            self.current += 1\n",
    "            return num\n",
    "        else:\n",
    "            raise StopIteration\n",
    "\n",
    "# Using the Counter class in a for loop\n",
    "for num in Counter(3):\n",
    "    print(num)\n",
    "'''Here's a simple example of a class in Python that implements the iterator protocol,making it usable in a for loop.\n",
    "   An iterator in Python must implement two methods:\n",
    "           __iter__() \n",
    "           __next__()\n",
    "   The __iter__() method returns the iterator object itself and is automatically called at the start of loops. \n",
    "   The __next__() method returns the next value and is automatically called at each loop increment. \n",
    "   It should raise a StopIteration exception when there are no more values to return.'''"
   ]
  },
  {
   "cell_type": "code",
   "execution_count": null,
   "id": "6f2b1856-8a55-4f54-ad2e-10e1fe6322a4",
   "metadata": {},
   "outputs": [],
   "source": [
    "#  an iterator which generates the desired number of first Fibonacci sequence elements.\n",
    "class Fib:\n",
    "    def __init__(self, last):\n",
    "        self.__last = last\n",
    "        self.__current = 0\n",
    "        self.__prev_1 = self.__prev_2 = 1\n",
    "\n",
    "\n",
    "    def __iter__(self):\n",
    "        return self\n",
    "\n",
    "\n",
    "    def __next__(self):\n",
    "        self.__current += 1\n",
    "        if self.__current > self.__last:\n",
    "            raise StopIteration\n",
    "        if self.__current in [1, 2]:\n",
    "            return 1\n",
    "        return_value = self.__prev_1 + self.__prev_2\n",
    "        self.__prev_1, self.__prev_2 = self.__prev_2, return_value\n",
    "        return return_value\n",
    "\n",
    "\n",
    "for i in Fib(10):\n",
    "    print(i, end=\" \")\n",
    "\n"
   ]
  },
  {
   "cell_type": "markdown",
   "id": "158e8a8d-4c5e-416c-bc72-adc02b52ded3",
   "metadata": {},
   "source": [
    "The main disadvantage of the iterator protocol is the need to save the state of the iteration between subsequent __iter__() invocations. This is why Python offers a much more effective, convenient, and elegant way of writing iterators. The concept is based on a mechanism provided by the yield keyword.\n",
    "\n",
    "You may think of the yield keyword as a smarter sibling of the return statement, with one essential difference – a function containing the yield statement should not be invoked explicitly as, in fact, it isn't a function anymore; it's a generator object.\n",
    "\n",
    "The invocation of such a function will return the object's identifier, not the series we expect from the generator.\n",
    "\n",
    "Values returned by subsequent generator invocations can be turned into a list using the list() function."
   ]
  },
  {
   "cell_type": "code",
   "execution_count": 61,
   "id": "1b6c919d-6ed5-4962-9059-c76cb62a04af",
   "metadata": {},
   "outputs": [
    {
     "name": "stdout",
     "output_type": "stream",
     "text": [
      "0 2 4 6 8 "
     ]
    }
   ],
   "source": [
    "# yield example\n",
    "def double_step(n):\n",
    "    for i in range(0, 2*n, 2):\n",
    "        yield i\n",
    "\n",
    "for v in double_step(5):\n",
    "    print(v, end=\" \")"
   ]
  },
  {
   "cell_type": "code",
   "execution_count": 63,
   "id": "52d1b626-3d40-4570-9512-03254b9c1e7c",
   "metadata": {},
   "outputs": [
    {
     "name": "stdout",
     "output_type": "stream",
     "text": [
      "[1, 1, 2, 3, 5, 8, 13, 21, 34, 55]\n"
     ]
    }
   ],
   "source": [
    "# a Fibonacci series generator which utilizes the yield concept \n",
    "def Fib(n):\n",
    "    p = pp = 1\n",
    "    for i in range(n):\n",
    "        if i in [0, 1]:\n",
    "            yield 1\n",
    "        else:\n",
    "            n = p + pp\n",
    "            pp, p = p, n\n",
    "            yield n\n",
    "\n",
    "print(list(Fib(10)))\n",
    "\n"
   ]
  },
  {
   "cell_type": "code",
   "execution_count": 65,
   "id": "af801621-ed75-4597-8e33-da8466bc7cca",
   "metadata": {},
   "outputs": [
    {
     "name": "stdout",
     "output_type": "stream",
     "text": [
      "[1, 10, 100]\n",
      "[10]\n"
     ]
    }
   ],
   "source": [
    "'''List comprehension is an element of Python syntax which allows the programmer to create a new list \n",
    " either using the values of an existing list or \n",
    " generated \"on the fly\" by the for clause of another generator expression.'''\n",
    "\n",
    "new_list = [10 ** ex for ex in range(3)]\n",
    "print(new_list)\n",
    "\n",
    "'''To control the process of comprehension, the if clause can be used.'''\n",
    "new_list = [10 ** ex for ex in range(3) if ex % 2 != 0]\n",
    "print(new_list)\n",
    "\n"
   ]
  },
  {
   "cell_type": "code",
   "execution_count": 68,
   "id": "ec4b6d91-1eb8-4eab-965c-02bbd7d613c8",
   "metadata": {},
   "outputs": [
    {
     "name": "stdout",
     "output_type": "stream",
     "text": [
      "0 0\n",
      "1 1\n",
      "4 4\n"
     ]
    }
   ],
   "source": [
    "''' In Python, a lambda function is a function without a name (an anonymous function). \n",
    "Its declaration takes the following form:\n",
    "    lambda parameters : expression\n",
    "    \n",
    "Such a clause returns the value of the expression when taking into account the current values \n",
    "of the lambda's arguments. \n",
    "\n",
    "Note that the parameters part can be empty – in this case, the lambda function takes no arguments at all.'''\n",
    "\n",
    "just_two  = lambda : 2\n",
    "square_of = lambda x : x * x\n",
    "power_of  = lambda x, y : x ** y\n",
    "for a in range(3):\n",
    "    print(square_of(a), power_of(a, just_two()))\n",
    "\n"
   ]
  },
  {
   "cell_type": "code",
   "execution_count": 69,
   "id": "67c3f3a4-c07f-4d7a-b2cc-2222f9216504",
   "metadata": {},
   "outputs": [
    {
     "name": "stdout",
     "output_type": "stream",
     "text": [
      "f(3)=0.3333333333333333\n",
      "f(3)=9\n",
      "f(3)=27\n"
     ]
    }
   ],
   "source": [
    "''' A lambda function can be passed to another function as an argument, and invoked. \n",
    "    Such a technique may simplify the code, \n",
    "    and allows the programmer to avoid writing functions which are invoked only once. '''\n",
    "def print_x_y(arg, function):\n",
    "    print(\"f(\" + str(arg) + \")=\" + str(function(arg)))\n",
    "\n",
    "\n",
    "print_x_y(3, lambda x: 1 / x)   \n",
    "print_x_y(3, lambda x: x * x) \n",
    "print_x_y(3, lambda x: x ** x)\n",
    "\n"
   ]
  },
  {
   "cell_type": "code",
   "execution_count": 70,
   "id": "5824bb87-41d0-43db-908d-bc400ced1734",
   "metadata": {},
   "outputs": [
    {
     "name": "stdout",
     "output_type": "stream",
     "text": [
      "[0, 1, 4, 9, 16]\n",
      "0 1 2 3 4 \n"
     ]
    }
   ],
   "source": [
    "''' The map() function applies a function (e.g. a lambda) passed by its first argument \n",
    "   to all the elements of its second argument, and returns an iterator delivering all subsequent function results.\n",
    "   You can use the resulting iterator in a loop, or convert it into a list using the list() function.\n",
    "   '''\n",
    "import math\n",
    "\n",
    "list_x = [x for x in range(5)]\n",
    "list_y = list(map(lambda x: x * x, list_x))\n",
    "print(list_y)\n",
    "\n",
    "for x in map(lambda x: int(math.sqrt(x)), list_y):\n",
    "    print(x, end=' ')\n",
    "print()\n"
   ]
  },
  {
   "cell_type": "code",
   "execution_count": 71,
   "id": "1a7da472-df2f-4f94-951f-b8a72dfe2de5",
   "metadata": {},
   "outputs": [
    {
     "name": "stdout",
     "output_type": "stream",
     "text": [
      "[-5, -3, -1, 1, 3, 5]\n",
      "[1, 3, 5]\n"
     ]
    }
   ],
   "source": [
    "''' The filter() function, as the name suggests, filters its second argument (e.g. a list)\n",
    " while being guided by directions flowing from the function (e.g. a lambda) \n",
    " specified as the first argument (the function is invoked for each list element, just like in map()). \n",
    "The list's elements for which the function returns True pass the filter, and the other elements are rejected.\n",
    "'''\n",
    "list_in = [x for x in range(-5, 6, 2)]\n",
    "list_out = list(filter(lambda x: x > 0, list_in))\n",
    "print(list_in)\n",
    "print(list_out)\n",
    "\n",
    "\n"
   ]
  },
  {
   "cell_type": "code",
   "execution_count": null,
   "id": "f8c85970-ed26-4bc6-a10f-819ec1ae8e5e",
   "metadata": {},
   "outputs": [],
   "source": [
    "'''Closure is a technique which allows the storing of values in spite of the fact that \n",
    " the context in which they have been created does not exist anymore.\n",
    " '''\n",
    "\n",
    "def outer(parameter):\n",
    "    local_var = parameter\n",
    "    \n",
    "    def inner():\n",
    "        return local_var\n",
    "\n",
    "    return inner\n",
    "\n",
    "\n",
    "function = outer(1)\n",
    "print(function())\n",
    "\n",
    "'''\n",
    "Explanation:\n",
    "the inner() function returns the value of the local_var variable, accessible inside its scope, \n",
    "as inner() can use any of the entities at the disposal of the outer() function;\n",
    "\n",
    "the outer() function returns a copy of the inner() function \n",
    "that has been frozen at the moment of outer()'s invocation; \n",
    "the frozen function includes its full environment, along with the states of all local variables, \n",
    "which also means that the value of the local_var variable is successfully retained, \n",
    "even though the outer() function has already ceased to exist;\n",
    "\n",
    "in effect, the code is fully valid, and outputs 1 to the screen;\n",
    "\n",
    "the function returned during the outer() invocation is a closure.\n",
    "'''"
   ]
  },
  {
   "cell_type": "code",
   "execution_count": 98,
   "id": "3d5f64c5-f8ad-486e-ba71-4d160086836e",
   "metadata": {},
   "outputs": [
    {
     "name": "stdout",
     "output_type": "stream",
     "text": [
      "<class 'function'>\n",
      "8\n"
     ]
    },
    {
     "data": {
      "text/plain": [
       "\"\\nThis code snippet demonstrates an example of a closure in Python. \\nA closure occurs when a function has access to a local variable from an enclosing scope that has finished its execution. \\n\\nOuter Function: power(a) is the outer function that takes a single argument a.\\n\\nInner Function: Within power(a), there's an inner function defined, internal(x), which also takes a single argument x. \\nThis function returns x raised to the power of a, effectively calculating x**a. \\nNotice that internal(x) uses a, a variable from the enclosing power function's scope.\\n\\nClosure: The power function returns the internal function itself—not the result of calling internal, but the function object internal. \\nThis is what makes power(a) a closure; it encapsulates the function internal along with the environment in which internal was defined. \\nThe variable a remains accessible to internal even after power has finished executing.\\n\\nUsage: When you call power(3), you're effectively creating a new function that takes a single argument and raises it to the power of 3. \\nThis new function is then assigned to the variable cube.\\n\\nCalling the Closure: When you call cube(2), you're invoking the internal function that was returned by power(3), with x set to 2. Since a was set to 3 when cube was created, cube(2) calculates 2**3, which is 8.\\n\\n\""
      ]
     },
     "execution_count": 98,
     "metadata": {},
     "output_type": "execute_result"
    }
   ],
   "source": [
    "# closure\n",
    "def power(a):\n",
    "    def internal(x):\n",
    "        return x ** a;\n",
    "    return internal\n",
    "\n",
    "cube = power(3)\n",
    "#print(type(cube))  # <class 'function'>\n",
    "print (cube(2))\n",
    "\n",
    "'''\n",
    "This code snippet demonstrates an example of a closure in Python. \n",
    "A closure occurs when a function has access to a local variable from an enclosing scope that has finished its execution. \n",
    "\n",
    "Outer Function: power(a) is the outer function that takes a single argument a.\n",
    "\n",
    "Inner Function: Within power(a), there's an inner function defined, internal(x), which also takes a single argument x. \n",
    "This function returns x raised to the power of a, effectively calculating x**a. \n",
    "Notice that internal(x) uses a, a variable from the enclosing power function's scope.\n",
    "\n",
    "Closure: The 'power' function returns the 'internal' function itself—not the result of calling 'internal', but the function object 'internal'. \n",
    "This is what makes power(a) a closure; it encapsulates the function internal along with the environment in which internal was defined. \n",
    "The variable a remains accessible to internal even after power has finished executing.\n",
    "\n",
    "Usage: When you call power(3), you're effectively creating a new function that takes a single argument and raises it to the power of 3. \n",
    "This new function is then assigned to the variable cube.\n",
    "\n",
    "Calling the Closure: When you call cube(2), you're invoking the internal function that was returned by power(3), with x set to 2. Since a was set to 3 when cube was created, cube(2) calculates 2**3, which is 8.\n",
    "\n",
    "'''"
   ]
  },
  {
   "cell_type": "markdown",
   "id": "1a031252-7b6d-4a43-969a-90fd4409d22d",
   "metadata": {},
   "source": [
    "A file stream is a communication channel interconnected between a program and its environment (e.g. a disk file or a terminal).\n",
    "\n",
    "A standard stream is a file stream set up when the program begins execution. There are three standard streams, accessible via the sys module:\n",
    "\n",
    "    sys.stdin (standard input) connected to a terminal input device (e.g. a keyboard) by default (this is the channel where the input() function reads its data from)\n",
    "\n",
    "    sys.stdout (standard output) connected to a terminal output device (e.g. a display) by default (this is the channel where the print() function writes its data to)\n",
    "\n",
    "    sys.stderr (standard error output) connected to a terminal output device by default (this is the channel where Python sends its error messages to).\n",
    "\n",
    "There are two basic operations performed on the stream:\n",
    "\n",
    "    read from the stream: the portions of the data are retrieved from the file and placed in a memory area managed by the program (e.g. a variable)\n",
    "\n",
    "    write to the stream: the portions of the data from the memory (e.g. a variable) are transferred to the file.\n",
    "\n",
    "\n",
    "There are three basic modes used to open the stream:\n",
    "\n",
    "    read mode: a stream opened in this mode allows read operations only; trying to write to the stream will cause an exception (the exception is named UnsupportedOperation, which inherits OSError and ValueError, and comes from the io module)\n",
    "    \n",
    "    write mode: a stream opened in this mode allows write operations only; attempting to read the stream will cause the exception mentioned above;\n",
    "    \n",
    "    append mode: a stream opened in this mode allows writes at the end of the file\n",
    "\n",
    "A file handle is an object which encapsulates all the stream's details and provides a unified interface to all necessary stream operations and attributes. The handle object may be derived from one of the following classes:\n",
    "    \n",
    "    RawIOBase\n",
    "    BufferedIOBase\n",
    "    TextIOBase\n",
    "All these classes are derived from the IOBase superclass.\n",
    "\n",
    "The only way to obtain a functional object of the above classes is to invoke a function named open(). The object is discarded and the stream is closed when the .close() method is invoked.\n",
    "\n",
    "\n",
    "Due to the type of the stream's contents, all the streams are divided into text and binary streams.\n",
    "\n",
    "     text streams are structured in lines and contain typographical characters (letters, digits, punctuation, etc.)\n",
    "     \n",
    "     binary streams don't contain text, but rather a sequence of bytes of any value.\n",
    "\n",
    "The opening of the stream is performed in the following way:\n",
    "\n",
    "    stream = open(file, mode = 'r', encoding = None)\n",
    "\n",
    "the open() function returns a stream object; otherwise, an exception is raised (e.g. FileNotFoundError if the file you're going to read doesn't exist)\n",
    "\n",
    "the file parameter specifies the name of the file to be associated with the stream;\n",
    "\n",
    "the mode parameter specifies the open mode used for the stream; it's a string filled with a sequence of characters, and each of them has its own special meaning;\n",
    "\n",
    "the encoding parameter specifies the encoding type (e.g. UTF-8 when working with text files)\n",
    "the opening must be the very first operation performed on the stream.\n",
    "\n",
    "Possible open modes and their codes passed as the second open() function argument are:\n",
    "\n",
    "    read (coded as 'r')\n",
    "        the stream will be opened in read mode;\n",
    "        the file associated with the stream must exist and has to be readable.\n",
    "    \n",
    "    write (coded as 'w')\n",
    "        the stream will be opened in write mode;\n",
    "        the file associated with the stream doesn't need to exist; if it doesn't exist it will be created; if it exists, it will be truncated to the length of zero (erased).\n",
    "        \n",
    "    append (coded as 'a')       \n",
    "        the stream will be opened in append mode;\n",
    "        the file associated with the stream doesn't need to exist; if it doesn't exist, it will be created; if it exists, the virtual recording head will be set at the end of the file (the previous contents of the file remain untouched).\n",
    "\n",
    "    read and update (coded as 'r+')\n",
    "        the stream will be opened in read and update mode;\n",
    "        the file associated with the stream must exist and has to be writeable.\n",
    "\n",
    "    write and update (coded as 'w+')\n",
    "        the stream will be opened in write and update mode;\n",
    "        the file associated with the stream doesn't need to exist; if it doesn't exist, it will be created; if it exists the virtual recording head will be set at the end of the file (the previous content of the file remains untouched).\n",
    "\n",
    "Closing is the operation performed on a stream and is done by an argumentless method named .close()\n",
    "\n",
    "Each IOError object is equipped with a property named errno (the name comes from the phrase error number) which contains an integer value representing a code of the last occurrence of the error. Some of the useful errno values come from the errno module. These are:\n",
    "\n",
    "    errno.EBADF → Bad file number.\n",
    "    errno.EEXIST → File exists.\n",
    "    errno.EFBIG → File too large.\n",
    "    errno.EISDIR → Is a directory.\n",
    "    errno.EMFILE → Too many open files.\n",
    "    errno.ENOENT → No such file or directory.\n",
    "    errno.ENOSPC → No space left on device.\n",
    "\n",
    "An error code contained in errno can be translated into text form by the os.strerror(error_code) function.\n",
    "\n",
    "Reading from a text stream can be done character by character using the .read(chunk_size) method with an argument set to 1; If the chunk_size is not mentioned , then the entire file is read.\n",
    "\n",
    "The same task can be done line by line using the .readline() method, which returns a string with a complete line read from the file, or an empty string when there are no more lines to read in the file.\n",
    "\n",
    "Another option is to read the file as a whole using the .readlines() method\n",
    "\n",
    "    read(1) -- character by character\n",
    "    read()  -- will read the whole file content \n",
    "    readline() -- line by line\n",
    "    readlines() -- entire file\n",
    "\n",
    "Writing to the text stream is performed with the help of the .write(string) method, which sends its string argument to the associated file. No end-line character is implicitly added.\n",
    "\n",
    "\n",
    "In order to operate with raw bytes Python has a dedicated sequence class named bytearray. Objects of the class can be used to store portions of data read in or written to a binary stream.Eg., below\n",
    "\n",
    "    data = bytearray(10)\n",
    "\n",
    "    .write(array) method --> To write a bytearray's contents to a binary stream\n",
    "    .readto(array) method --> To read a bytearray's contents from a binary stream\n",
    "    "
   ]
  },
  {
   "cell_type": "code",
   "execution_count": 73,
   "id": "2a2eb233-df67-45cf-ae59-12aa8df1b9bd",
   "metadata": {},
   "outputs": [
    {
     "name": "stdout",
     "output_type": "stream",
     "text": [
      "False\n"
     ]
    }
   ],
   "source": [
    "print(not 'xyz' in 'uvxxyz')\n",
    "\n",
    "# not reverses the boolean value"
   ]
  },
  {
   "cell_type": "code",
   "execution_count": 77,
   "id": "3ef305ba-e868-44e3-a21e-91850cab1708",
   "metadata": {},
   "outputs": [
    {
     "name": "stdout",
     "output_type": "stream",
     "text": [
      "['1', '2', '3']\n",
      "123\n",
      "['1', '2', '3']\n"
     ]
    }
   ],
   "source": [
    "print(sorted(\"321\"))\n",
    "\n",
    "print(''.join(sorted(\"321\")))\n",
    "\n",
    "temp = list(\"321\")\n",
    "temp.sort()\n",
    "print(temp)"
   ]
  },
  {
   "cell_type": "code",
   "execution_count": 80,
   "id": "616931f0-5c79-45ce-afbb-0a803bd35f6c",
   "metadata": {},
   "outputs": [],
   "source": [
    "class Mi:\n",
    "    def __init__(self):\n",
    "        #self.color = None\n",
    "        return False"
   ]
  },
  {
   "cell_type": "code",
   "execution_count": 81,
   "id": "e3a28bad-e07a-4aa7-9be5-0bafa3dbb80c",
   "metadata": {},
   "outputs": [
    {
     "name": "stdout",
     "output_type": "stream",
     "text": [
      "__main__\n"
     ]
    }
   ],
   "source": [
    "class Example:\n",
    "    def __str__(self):\n",
    "        return __name__\n",
    "\n",
    "thing = Example()\n",
    "print(thing)"
   ]
  },
  {
   "cell_type": "code",
   "execution_count": 85,
   "id": "1c640bc5-ec75-4700-a0ec-d0552549abde",
   "metadata": {},
   "outputs": [
    {
     "name": "stdout",
     "output_type": "stream",
     "text": [
      "1\n"
     ]
    }
   ],
   "source": [
    "pairs = [[2,1],[-2,-1]]\n",
    "new_pairs = map (lambda p: sorted(p), pairs)\n",
    "print(list(new_pairs)[0][0])"
   ]
  },
  {
   "cell_type": "code",
   "execution_count": 91,
   "id": "01cdb366-3fc4-48f2-8275-15ec16d22e4d",
   "metadata": {},
   "outputs": [
    {
     "name": "stdout",
     "output_type": "stream",
     "text": [
      "True\n",
      "False\n"
     ]
    }
   ],
   "source": [
    "def boolean(op):\n",
    "    return op(False, True)\n",
    "\n",
    "print(boolean(lambda x,y: x if x else y))\n",
    "print(boolean(lambda x,y: x if not x else y))"
   ]
  },
  {
   "cell_type": "code",
   "execution_count": 94,
   "id": "05066856-ebdd-48a3-94bb-551ffcdd0cf0",
   "metadata": {},
   "outputs": [
    {
     "name": "stdout",
     "output_type": "stream",
     "text": [
      "3.1\n",
      "3.1\n"
     ]
    }
   ],
   "source": [
    "print(abs(-3.1))\n",
    "print(abs(3.1))"
   ]
  },
  {
   "cell_type": "code",
   "execution_count": 114,
   "id": "4f117ea9-29eb-4e26-a517-a99c9a5230a0",
   "metadata": {},
   "outputs": [
    {
     "name": "stdout",
     "output_type": "stream",
     "text": [
      "turn on\n",
      "out of order\n"
     ]
    },
    {
     "data": {
      "text/plain": [
       "'\\nThis Python code snippet defines a custom exception class named Failure, which is a subclass of the built-in Exception class, \\ndemonstrates raising this custom exception, and handles it within a try-except block. Let\\'s go through it step by step:\\n\\nCustom Exception Definition:\\nThe Failure class is defined as a subclass of Exception, making it a custom exception type. \\nIt is common practice in Python to create custom exceptions for specific error conditions in your programs.\\nThe __init__ method initializes the exception instance with a message attribute. This message is meant to describe the error or failure.\\nThe __str__ method is overridden to return a fixed string \"out of order\" whenever the exception instance is converted to a string (e.g., when it is printed).\\n\\nRaising the Exception:\\nThe code block inside the try statement first prints \"turn on\", indicating an attempt to perform some operation.\\nImmediately afterward, the Failure exception is raised with the message \"crash\". This simulates a failure condition. \\nThe message \"crash\" is passed to the __init__ method of Failure and stored in the message attribute, but note that this message is not used anywhere else in the code.\\n\\nHandling the Exception:\\nThe except Failure as problem block catches the Failure exception. The variable problem is bound to the exception instance.\\nWhen print(problem) is executed, Python calls the __str__ method of the Failure instance to determine what string to print. Since __str__ is overridden to return \"out of order\", that is the output you see.\\n\\nelse Block:\\nThe else block is not executed in this case because an exception was raised in the try block. If no exception had been raised, the else block would execute and print \"success\".\\n\\n'"
      ]
     },
     "execution_count": 114,
     "metadata": {},
     "output_type": "execute_result"
    }
   ],
   "source": [
    "# custom exception with __str__ override\n",
    "class Failure(Exception):\n",
    "    def __init__(self,message):\n",
    "        self.message = message\n",
    "\n",
    "    def __str__(self):\n",
    "        return \"out of order\"\n",
    "\n",
    "\n",
    "try:\n",
    "    print(\"turn on\")\n",
    "    raise Failure(\"crash\")     # this raises the custom exception\n",
    "    #raise Exception(\"crash\")  # this will raise the base exception\n",
    "except Failure as problem:\n",
    "    print(problem)\n",
    "except Exception as e:\n",
    "    print(e)\n",
    "else:\n",
    "    print(\"success\")\n",
    "\n",
    "'''\n",
    "This Python code snippet defines a custom exception class named Failure, which is a subclass of the built-in Exception class, \n",
    "demonstrates raising this custom exception, and handles it within a try-except block. Let's go through it step by step:\n",
    "\n",
    "Custom Exception Definition:\n",
    "The Failure class is defined as a subclass of Exception, making it a custom exception type. \n",
    "It is common practice in Python to create custom exceptions for specific error conditions in your programs.\n",
    "The __init__ method initializes the exception instance with a message attribute. This message is meant to describe the error or failure.\n",
    "The __str__ method is overridden to return a fixed string \"out of order\" whenever the exception instance is converted to a string (e.g., when it is printed).\n",
    "\n",
    "Raising the Exception:\n",
    "The code block inside the try statement first prints \"turn on\", indicating an attempt to perform some operation.\n",
    "Immediately afterward, the Failure exception is raised with the message \"crash\". This simulates a failure condition. \n",
    "The message \"crash\" is passed to the __init__ method of Failure and stored in the message attribute, but note that this message is not used anywhere else in the code.\n",
    "\n",
    "Handling the Exception:\n",
    "The except Failure as problem block catches the Failure exception. The variable problem is bound to the exception instance.\n",
    "When print(problem) is executed, Python calls the __str__ method of the Failure instance to determine what string to print. Since __str__ is overridden to return \"out of order\", that is the output you see.\n",
    "\n",
    "else Block:\n",
    "The else block is not executed in this case because an exception was raised in the try block. If no exception had been raised, the else block would execute and print \"success\".\n",
    "\n",
    "'''"
   ]
  },
  {
   "cell_type": "code",
   "execution_count": 115,
   "id": "deb6aa5a-f7e1-4a01-ba62-5b2792d1565d",
   "metadata": {},
   "outputs": [
    {
     "name": "stdout",
     "output_type": "stream",
     "text": [
      "5\n",
      "2\n"
     ]
    }
   ],
   "source": [
    "\n",
    "var = '''ww\n",
    "dd'''\n",
    "print(len(var)) # the length is not 4 as it includes a newline character\n",
    "\n",
    "var = \"''\"\n",
    "print(len(var))"
   ]
  },
  {
   "cell_type": "code",
   "execution_count": null,
   "id": "e3d060e2-43fe-4209-b26c-8f4028fa2cd9",
   "metadata": {},
   "outputs": [],
   "source": []
  },
  {
   "cell_type": "code",
   "execution_count": null,
   "id": "f38df587-cc1f-4f3f-8915-be71f4eb3a21",
   "metadata": {},
   "outputs": [],
   "source": []
  },
  {
   "cell_type": "code",
   "execution_count": null,
   "id": "5c39ff05-3262-44fc-ad7c-ddf4a81800cd",
   "metadata": {},
   "outputs": [],
   "source": []
  },
  {
   "cell_type": "code",
   "execution_count": null,
   "id": "73b07d8c-abe4-4512-8606-88d014bf1bce",
   "metadata": {},
   "outputs": [],
   "source": []
  },
  {
   "cell_type": "code",
   "execution_count": null,
   "id": "90b54126-3012-4b8c-b48b-e1e832705a20",
   "metadata": {},
   "outputs": [],
   "source": []
  }
 ],
 "metadata": {
  "kernelspec": {
   "display_name": "Python 3 (ipykernel)",
   "language": "python",
   "name": "python3"
  },
  "language_info": {
   "codemirror_mode": {
    "name": "ipython",
    "version": 3
   },
   "file_extension": ".py",
   "mimetype": "text/x-python",
   "name": "python",
   "nbconvert_exporter": "python",
   "pygments_lexer": "ipython3",
   "version": "3.12.1"
  }
 },
 "nbformat": 4,
 "nbformat_minor": 5
}
